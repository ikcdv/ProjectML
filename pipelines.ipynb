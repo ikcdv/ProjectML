{
 "metadata": {
  "language_info": {
   "codemirror_mode": {
    "name": "ipython",
    "version": 3
   },
   "file_extension": ".py",
   "mimetype": "text/x-python",
   "name": "python",
   "nbconvert_exporter": "python",
   "pygments_lexer": "ipython3",
   "version": "3.8.5"
  },
  "orig_nbformat": 4,
  "kernelspec": {
   "name": "python3",
   "display_name": "Python 3.8.5 64-bit ('ProjectML': conda)"
  },
  "interpreter": {
   "hash": "8225abe4a53f0df61f5922398010fb6dd4f184ff6a838f60d97fdbd68022aa46"
  }
 },
 "nbformat": 4,
 "nbformat_minor": 2,
 "cells": [
  {
   "cell_type": "code",
   "execution_count": null,
   "metadata": {},
   "outputs": [],
   "source": [
    "import sys\n",
    "print(sys.argv)"
   ]
  },
  {
   "cell_type": "code",
   "execution_count": null,
   "metadata": {},
   "outputs": [],
   "source": [
    "%run eda.ipynb"
   ]
  },
  {
   "cell_type": "code",
   "execution_count": null,
   "metadata": {},
   "outputs": [],
   "source": [
    "import pandas as pd\n",
    "import numpy as np\n",
    "\n",
    "from sklearn.decomposition import PCA\n",
    "from sklearn.preprocessing import StandardScaler\n",
    "from sklearn.ensemble import RandomForestClassifier\n",
    "from sklearn.model_selection import train_test_split\n",
    "from sklearn.metrics import accuracy_score\n",
    "from sklearn import svm\n",
    "from sklearn.pipeline import Pipeline\n",
    "from sklearn.model_selection import GridSearchCV\n",
    "from sklearn.model_selection import train_test_split, StratifiedKFold\n",
    "from sklearn.model_selection import GridSearchCV\n",
    "from sklearn.pipeline import make_pipeline\n",
    "from sklearn.svm import SVC\n",
    "\n",
    "\n",
    "%matplotlib inline\n",
    "import matplotlib.pyplot as plt"
   ]
  },
  {
   "cell_type": "code",
   "execution_count": null,
   "metadata": {},
   "outputs": [],
   "source": [
    "pipe_svc = make_pipeline(StandardScaler(),PCA(n_components=2),SVC(random_state=1))\n",
    "param_range = [0.1,1,10,100]\n",
    "param_grid = {'svc__C': [0.1,1,10,100], 'svc__kernel': ['linear', 'rbf'],\n",
    "              'svc__gamma': [0.1,1,10,100]}\n",
    "cv = StratifiedKFold(n_splits=5)\n",
    "gs = GridSearchCV(estimator=pipe_svc,param_grid=param_grid, scoring='accuracy', cv = cv,\n",
    "                  return_train_score=True)\n",
    "gs.fit(X_train, y_train)"
   ]
  },
  {
   "cell_type": "code",
   "execution_count": null,
   "metadata": {},
   "outputs": [],
   "source": [
    "print(\"Best Estimator: \\n{}\\n\".format(gs.best_estimator_))\n",
    "print(\"Best Parameters: \\n{}\\n\".format(gs.best_params_))\n",
    "print(\"Best Test Score: \\n{}\\n\".format(gs.best_score_))\n",
    "print(\"Best Training Score: \\n{}\\n\".format(gs.cv_results_['mean_train_score'][gs.best_index_]))\n",
    "print(\"All Training Scores: \\n{}\\n\".format(gs.cv_results_['mean_train_score']))\n",
    "print(\"All Test Scores: \\n{}\\n\".format(gs.cv_results_['mean_test_score']))"
   ]
  },
  {
   "cell_type": "code",
   "execution_count": null,
   "metadata": {},
   "outputs": [],
   "source": [
    "print(\"All Meta Results During CV Search: \\n{}\\n\".format(gs.cv_results_))"
   ]
  }
 ]
}