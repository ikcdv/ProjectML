{
  "nbformat": 4,
  "nbformat_minor": 0,
  "metadata": {
    "colab": {
      "name": "Model.ipynb",
      "provenance": [],
      "collapsed_sections": []
    },
    "interpreter": {
      "hash": "8225abe4a53f0df61f5922398010fb6dd4f184ff6a838f60d97fdbd68022aa46"
    },
    "kernelspec": {
      "display_name": "Python 3.8.5 64-bit ('ProjectML': conda)",
      "name": "python3"
    },
    "language_info": {
      "codemirror_mode": {
        "name": "ipython",
        "version": 3
      },
      "file_extension": ".py",
      "mimetype": "text/x-python",
      "name": "python",
      "nbconvert_exporter": "python",
      "pygments_lexer": "ipython3",
      "version": "3.8.5"
    }
  },
  "cells": [
    {
      "cell_type": "code",
      "metadata": {
        "id": "C3ERhf7Im_1D"
      },
      "source": [
        "import pandas as pd\n",
        "import numpy as np\n",
        "import seaborn as sns\n",
        "import matplotlib.pyplot as plt\n",
        "\n",
        "from sklearn.model_selection import train_test_split\n",
        "import lightgbm as lgb\n",
        "from sklearn.dummy import DummyClassifier\n",
        "from sklearn.preprocessing import StandardScaler\n",
        "from sklearn.decomposition import PCA\n",
        "from sklearn.neighbors import KNeighborsClassifier\n",
        "from sklearn.pipeline import Pipeline\n",
        "from sklearn.model_selection import GridSearchCV\n",
        "from sklearn.svm import SVC\n",
        "from sklearn.ensemble import AdaBoostClassifier\n",
        "\n",
        "from sklearn.metrics import accuracy_score, confusion_matrix, f1_score, plot_confusion_matrix, classification_repor\n",
        "from imblearn.metrics import classification_report_imbalanced"
      ],
      "execution_count": 14,
      "outputs": []
    },
    {
      "cell_type": "code",
      "metadata": {
        "colab": {
          "base_uri": "https://localhost:8080/"
        },
        "id": "TpFtIkR9qBFP",
        "outputId": "4f0e7043-4840-4cb4-879b-3a3e030de02f"
      },
      "source": [
        "from google.colab import drive\n",
        "from google.colab import files\n",
        "drive.mount('/content/drive')"
      ],
      "execution_count": 3,
      "outputs": [
        {
          "output_type": "stream",
          "text": [
            "Mounted at /content/drive\n"
          ],
          "name": "stdout"
        }
      ]
    },
    {
      "cell_type": "code",
      "metadata": {
        "id": "PsrHgQZ83rMJ"
      },
      "source": [
        "df_train = pd.read_csv('/content/drive/MyDrive/data/train_data.csv', header = None) \n",
        "df_test = pd.read_csv('/content/drive/MyDrive/data/test_data.csv', header = None) \n",
        "df_train_labels = pd.read_csv('/content/drive/MyDrive/data/train_labels.csv', header = None)"
      ],
      "execution_count": 4,
      "outputs": []
    },
    {
      "cell_type": "code",
      "metadata": {
        "id": "QpafwEZoohX_"
      },
      "source": [
        "X = df_train\n",
        "y = df_train_labels\n",
        "\n",
        "X_train, X_test, y_train, y_test = train_test_split(X, y , random_state=0, stratify = y, test_size = 0.3)"
      ],
      "execution_count": 5,
      "outputs": []
    },
    {
      "cell_type": "markdown",
      "metadata": {
        "id": "w0O_ILbs3ckm"
      },
      "source": [
        "#Baseline"
      ]
    },
    {
      "cell_type": "code",
      "metadata": {
        "id": "dx8BgjRTEwBP"
      },
      "source": [
        "def baseline_model(model):\n",
        "  \"\"\"\n",
        "  Returns report for baseline model\n",
        "  \"\"\"\n",
        "  model = model()\n",
        "  base_dummy = model.fit(X_train,y_train)\n",
        "  y_pred = model.predict(X_test)\n",
        "  print(classification_report_imbalanced(y_test, y_pred))\n",
        "  print(confusion_matrix(y_test, y_pred))"
      ],
      "execution_count": null,
      "outputs": []
    },
    {
      "cell_type": "code",
      "metadata": {
        "colab": {
          "base_uri": "https://localhost:8080/"
        },
        "id": "AddDzVPYE4bA",
        "outputId": "6c02350a-c081-45ce-9979-f0525c951698"
      },
      "source": [
        "baseline_model(DummyClassifier)"
      ],
      "execution_count": null,
      "outputs": [
        {
          "output_type": "stream",
          "text": [
            "                   pre       rec       spe        f1       geo       iba       sup\n",
            "\n",
            "         -1       0.12      0.10      0.92      0.11      0.30      0.08       113\n",
            "          1       0.90      0.92      0.10      0.91      0.30      0.10      1012\n",
            "\n",
            "avg / total       0.82      0.84      0.18      0.83      0.30      0.10      1125\n",
            "\n",
            "[[ 11 102]\n",
            " [ 77 935]]\n"
          ],
          "name": "stdout"
        },
        {
          "output_type": "stream",
          "text": [
            "/usr/local/lib/python3.7/dist-packages/sklearn/dummy.py:132: FutureWarning: The default value of strategy will change from stratified to prior in 0.24.\n",
            "  \"stratified to prior in 0.24.\", FutureWarning)\n"
          ],
          "name": "stderr"
        }
      ]
    },
    {
      "cell_type": "markdown",
      "metadata": {
        "id": "Wv9fYeqRyw3J"
      },
      "source": [
        "#Model\n"
      ]
    },
    {
      "cell_type": "code",
      "metadata": {
        "colab": {
          "base_uri": "https://localhost:8080/",
          "height": 450
        },
        "id": "yhTwbZjL-gOR",
        "outputId": "6f243eed-39c4-4044-cb08-a733356ed332"
      },
      "source": [
        "dtc_clf = DecisionTreeClassifier()\n",
        "knn_clf = KNeighborsClassifier(3)\n",
        "svm_clf = SVC()\n",
        "\n",
        "classifiers = [dtc_clf, knn_clf, svm_clf]\n",
        "\n",
        "def score(list):\n",
        "  '''\n",
        "  Return score, confusion matrix and plot results of the 3 models.\n",
        "  Comparison of the 3 most famous classifiers.\n",
        "  '''\n",
        "  log_cols = [\"Classifier\", \"Accuracy\"]\n",
        "  log \t = pd.DataFrame(columns=log_cols)\n",
        "\n",
        "  sss = StratifiedShuffleSplit(n_splits=10, test_size=0.1, random_state=0)\n",
        "\n",
        "  acc_dict = {}\n",
        "\n",
        "  for train_index, test_index in sss.split(X, y):\n",
        "    X_train, X_test = X.iloc[train_index], X.iloc[test_index]\n",
        "    y_train, y_test = y.iloc[train_index], y.iloc[test_index]\n",
        "\n",
        "  for clf in list:\n",
        "    name = clf.__class__.__name__\n",
        "    clf.fit(X_train, y_train.values.ravel())\n",
        "    train_predictions = clf.predict(X_test)\n",
        "    acc = accuracy_score(y_test, train_predictions)\n",
        "    print(name, acc)\n",
        "\n",
        "    if name in acc_dict:\n",
        "      acc_dict[name] += acc\n",
        "    else:\n",
        "      acc_dict[name] = acc\n",
        "  \n",
        "  for clf in acc_dict:\n",
        "    acc_dict[clf] = acc_dict[clf] / 10.0\n",
        "    log_entry = pd.DataFrame([[clf, acc_dict[clf]]], columns=log_cols)\n",
        "    log = log.append(log_entry)\n",
        "\n",
        "  plt.xlabel('Accuracy')\n",
        "  plt.title('Classifier Accuracy')\n",
        "\n",
        "  sns.set_color_codes(\"muted\")\n",
        "  sns.barplot(x='Accuracy', y='Classifier', data=log, color=\"b\")\n",
        "\n",
        "score(classifiers)"
      ],
      "execution_count": null,
      "outputs": [
        {
          "output_type": "stream",
          "text": [
            "DecisionTreeClassifier 0.9413333333333334\n",
            "[[ 82  31]\n",
            " [ 25 987]]\n",
            "KNeighborsClassifier 0.9573333333333334\n",
            "[[ 85  28]\n",
            " [ 23 989]]\n",
            "SVC 0.9573333333333334\n",
            "[[ 98  15]\n",
            " [ 26 986]]\n"
          ],
          "name": "stdout"
        },
        {
          "output_type": "display_data",
          "data": {
            "image/png": "[encoded data removed]",
            "text/plain": [
              "<Figure size 432x288 with 1 Axes>"
            ]
          },
          "metadata": {
            "tags": [],
            "needs_background": "light"
          }
        }
      ]
    },
    {
      "cell_type": "markdown",
      "metadata": {
        "id": "PUuV5SvLC98q"
      },
      "source": [
        "##Boosting"
      ]
    },
    {
      "cell_type": "code",
      "metadata": {
        "colab": {
          "base_uri": "https://localhost:8080/"
        },
        "id": "silBsnu_ySym",
        "outputId": "877b50c5-da1c-42b3-8322-dbaf6d7e381d"
      },
      "source": [
        "def adaboost():\n",
        "    \"\"\"\n",
        "    Returns score and confusion matrix results of the AdaBoost\n",
        "    \"\"\"\n",
        "    ab_clf = AdaBoostClassifier()\n",
        "    name = ab_clf.__class__.__name__\n",
        "    ab_clf.fit(X_train, y_train.values.ravel())\n",
        "    train_predictions = ab_clf.predict(X_test)\n",
        "    acc = accuracy_score(y_test, train_predictions)\n",
        "    print(name, acc)\n",
        "    print(confusion_matrix(y_test, train_predictions))\n",
        "\n",
        "adaboost()"
      ],
      "execution_count": null,
      "outputs": [
        {
          "output_type": "stream",
          "text": [
            "AdaBoostClassifier 0.9422222222222222\n",
            "[[ 74  39]\n",
            " [ 26 986]]\n"
          ],
          "name": "stdout"
        }
      ]
    },
    {
      "cell_type": "code",
      "metadata": {
        "colab": {
          "base_uri": "https://localhost:8080/"
        },
        "id": "vOqNehZz3tQi",
        "outputId": "0c8e6903-4d79-4626-f1e6-6b249ef0db44"
      },
      "source": [
        "def pipeline_adaboost(x_1: np.array, x_2: np.array, y_1: np.array, y_2: np.array):\n",
        "    \"\"\"\n",
        "    Returns the best parameters, score and confusion matrix of the AdaBoost\n",
        "    \"\"\"\n",
        "    classifier = AdaBoostClassifier()\n",
        "    param = [{'n_estimators': [50, 100, 150],\n",
        "            'learning_rate': [0.1, 0.01, 0.05]}]\n",
        "\n",
        "    grid_search = GridSearchCV(classifier,\n",
        "                              param,\n",
        "                              cv=3,\n",
        "                              verbose=2,\n",
        "                              n_jobs=-1,\n",
        "                              scoring='f1')\n",
        "\n",
        "    \n",
        "    best_model = grid_search.fit(x_2, y_2.values.ravel())\n",
        "    print(best_model.best_estimator_)\n",
        "    y_pred = best_model.predict(x_2)\n",
        "    print(\"The score of the model is:\",f1_score(y_2, y_pred))\n",
        "    print(confusion_matrix(y_2, y_pred))\n",
        "\n",
        "\n",
        "pipeline_adaboost(X_train, X_test, y_train, y_test)"
      ],
      "execution_count": 32,
      "outputs": [
        {
          "output_type": "stream",
          "text": [
            "Fitting 3 folds for each of 9 candidates, totalling 27 fits\n"
          ],
          "name": "stdout"
        },
        {
          "output_type": "stream",
          "text": [
            "[Parallel(n_jobs=-1)]: Using backend LokyBackend with 2 concurrent workers.\n",
            "[Parallel(n_jobs=-1)]: Done  27 out of  27 | elapsed: 28.8min finished\n"
          ],
          "name": "stderr"
        },
        {
          "output_type": "stream",
          "text": [
            "AdaBoostClassifier(algorithm='SAMME.R', base_estimator=None, learning_rate=0.1,\n",
            "                   n_estimators=100, random_state=None)\n",
            "The score of the model is: 0.9930898321816387\n",
            "[[ 105    8]\n",
            " [   6 1006]]\n"
          ],
          "name": "stdout"
        }
      ]
    },
    {
      "cell_type": "code",
      "metadata": {
        "colab": {
          "base_uri": "https://localhost:8080/"
        },
        "id": "CjuwvcOEO0EA",
        "outputId": "4fc466e5-0bba-4c42-e1de-2ee376b6bcaf"
      },
      "source": [
        "def lgbboost():\n",
        "    \"\"\"\n",
        "    Returns score and confusion matrix results of the LightGBM\n",
        "    \"\"\"\n",
        "    lgb_clf = lgb.LGBMClassifier()\n",
        "    name = lgb_clf.__class__.__name__\n",
        "    lgb_clf.fit(X_train, y_train.values.ravel())\n",
        "    train_predictions = lgb_clf.predict(X_test)\n",
        "    acc = accuracy_score(y_test, train_predictions)\n",
        "    print(name, acc)\n",
        "    print(confusion_matrix(y_test, train_predictions))\n",
        "\n",
        "lgbboost()"
      ],
      "execution_count": null,
      "outputs": [
        {
          "output_type": "stream",
          "text": [
            "LGBMClassifier 0.9662222222222222\n",
            "[[ 96  17]\n",
            " [ 21 991]]\n"
          ],
          "name": "stdout"
        }
      ]
    },
    {
      "cell_type": "code",
      "metadata": {
        "colab": {
          "base_uri": "https://localhost:8080/"
        },
        "id": "U70EJNIn_dJ5",
        "outputId": "b6062c2a-855e-466a-93b6-3921c296b024"
      },
      "source": [
        " def pipeline_lgb(x_1: np.array, x_2: np.array, y_1: np.array, y_2: np.array):\n",
        "    \"\"\"\n",
        "    Returns the best parameters, score and confusion matrix of the LightGBM\n",
        "    \"\"\"\n",
        "    classifier = lgb.LGBMClassifier()\n",
        "    param = [{\n",
        "        'num_leaves': [7, 15, 31], \n",
        "        'max_depth': [3, 4, 5]\n",
        "        }]\n",
        "\n",
        "    grid_search = GridSearchCV(classifier,\n",
        "                              param,\n",
        "                              cv=3,\n",
        "                              verbose=2,\n",
        "                              n_jobs=-1,\n",
        "                              scoring='f1')\n",
        "\n",
        "    \n",
        "    best_model = grid_search.fit(x_2, y_2.values.ravel())\n",
        "    print(best_model.best_estimator_)\n",
        "    y_pred = best_model.predict(x_2)\n",
        "    print(\"The score of the model is:\",f1_score(y_2, y_pred))\n",
        "    print(confusion_matrix(y_2, y_pred))\n",
        "    print(classification_report_imbalanced(y_2, y_pred))\n",
        "\n",
        "pipeline_lgb(X_train, X_test, y_train, y_test)"
      ],
      "execution_count": 61,
      "outputs": [
        {
          "output_type": "stream",
          "text": [
            "Fitting 3 folds for each of 9 candidates, totalling 27 fits\n"
          ],
          "name": "stdout"
        },
        {
          "output_type": "stream",
          "text": [
            "[Parallel(n_jobs=-1)]: Using backend LokyBackend with 2 concurrent workers.\n",
            "/usr/local/lib/python3.7/dist-packages/joblib/externals/loky/process_executor.py:691: UserWarning: A worker stopped while some jobs were given to the executor. This can be caused by a too short worker timeout or by a memory leak.\n",
            "  \"timeout or by a memory leak.\", UserWarning\n",
            "[Parallel(n_jobs=-1)]: Done  27 out of  27 | elapsed: 20.8min finished\n"
          ],
          "name": "stderr"
        },
        {
          "output_type": "stream",
          "text": [
            "LGBMClassifier(boosting_type='gbdt', class_weight=None, colsample_bytree=1.0,\n",
            "               importance_type='split', learning_rate=0.1, max_depth=5,\n",
            "               min_child_samples=20, min_child_weight=0.001, min_split_gain=0.0,\n",
            "               n_estimators=100, n_jobs=-1, num_leaves=31, objective=None,\n",
            "               random_state=None, reg_alpha=0.0, reg_lambda=0.0, silent=True,\n",
            "               subsample=1.0, subsample_for_bin=200000, subsample_freq=0)\n",
            "The score of the model is: 1.0\n",
            "[[ 113    0]\n",
            " [   0 1012]]\n",
            "                   pre       rec       spe        f1       geo       iba       sup\n",
            "\n",
            "         -1       1.00      1.00      1.00      1.00      1.00      1.00       113\n",
            "          1       1.00      1.00      1.00      1.00      1.00      1.00      1012\n",
            "\n",
            "avg / total       1.00      1.00      1.00      1.00      1.00      1.00      1125\n",
            "\n"
          ],
          "name": "stdout"
        }
      ]
    },
    {
      "cell_type": "markdown",
      "metadata": {
        "id": "nptLOSRJ-E9w"
      },
      "source": [
        "#Final model"
      ]
    },
    {
      "cell_type": "code",
      "metadata": {
        "id": "xWQkcoPzjCKB"
      },
      "source": [
        "def final_model(X_1, X_2, y_1, y_2: np.array, save: bool = False):\n",
        "    \"\"\"\n",
        "    Returns best model\n",
        "    \"\"\"\n",
        "    pipe = Pipeline([('pca', PCA(n_components = 0.99)), \n",
        "                     ('scaler', StandardScaler()), \n",
        "                     ('classifier', SVC())])\n",
        "\n",
        "    search_space = [{'scaler': [StandardScaler()],\n",
        "                    'pca': [PCA(n_components = 0.99)]},\n",
        "                    {'classifier': [SVC()],\n",
        "                    'classifier__kernel': ['linear', 'poly'],\n",
        "                    'classifier__class_weight': ['balanced'],\n",
        "                    'classifier__C': np.logspace(1,4,5)},\n",
        "                    {'classifier': [KNeighborsClassifier()],\n",
        "                    'classifier__n_neighbors': [2, 4, 6, 8, 10],\n",
        "                    'classifier__algorithm': ['auto']},\n",
        "                    {'classifier': [AdaBoostClassifier()],\n",
        "                    'classifier__n_estimators': [100],\n",
        "                    'classifier__learning_rate': [0.1]}]\n",
        "\n",
        "    grid_search = GridSearchCV(pipe,\n",
        "                              search_space,\n",
        "                              cv=3,\n",
        "                              verbose=2,\n",
        "                              n_jobs=-1,\n",
        "                              scoring='f1')\n",
        "    \n",
        "    best_model = grid_search.fit(X_1, y_1)\n",
        "    y_predictions = best_model.predict(X_2)\n",
        "    print('Best estimator: {}'.format(best_model.best_estimator_))\n",
        "    print('Best score: {}'.format(best_model.best_score_))\n",
        "    print('Best params: {}'.format(best_model.best_params_))\n",
        "   \n",
        "\n",
        "    return y_predictions"
      ],
      "execution_count": 12,
      "outputs": []
    },
    {
      "cell_type": "code",
      "metadata": {
        "colab": {
          "base_uri": "https://localhost:8080/"
        },
        "id": "HRP__AexpZwr",
        "outputId": "9db7feab-7f84-4fc8-d15b-453df2198a6d"
      },
      "source": [
        "y_predictions = final_model(X_train, X_test, y_train, y_test, save=True)"
      ],
      "execution_count": 15,
      "outputs": [
        {
          "output_type": "stream",
          "text": [
            "Fitting 3 folds for each of 17 candidates, totalling 51 fits\n"
          ],
          "name": "stdout"
        },
        {
          "output_type": "stream",
          "text": [
            "[Parallel(n_jobs=-1)]: Using backend LokyBackend with 2 concurrent workers.\n",
            "[Parallel(n_jobs=-1)]: Done  37 tasks      | elapsed: 10.1min\n",
            "[Parallel(n_jobs=-1)]: Done  51 out of  51 | elapsed: 13.9min finished\n",
            "/usr/local/lib/python3.7/dist-packages/sklearn/preprocessing/_label.py:235: DataConversionWarning: A column-vector y was passed when a 1d array was expected. Please change the shape of y to (n_samples, ), for example using ravel().\n",
            "  y = column_or_1d(y, warn=True)\n",
            "/usr/local/lib/python3.7/dist-packages/sklearn/preprocessing/_label.py:268: DataConversionWarning: A column-vector y was passed when a 1d array was expected. Please change the shape of y to (n_samples, ), for example using ravel().\n",
            "  y = column_or_1d(y, warn=True)\n"
          ],
          "name": "stderr"
        },
        {
          "output_type": "stream",
          "text": [
            "Best estimator: Pipeline(memory=None,\n",
            "         steps=[('pca',\n",
            "                 PCA(copy=True, iterated_power='auto', n_components=0.99,\n",
            "                     random_state=None, svd_solver='auto', tol=0.0,\n",
            "                     whiten=False)),\n",
            "                ('scaler',\n",
            "                 StandardScaler(copy=True, with_mean=True, with_std=True)),\n",
            "                ('classifier',\n",
            "                 LGBMClassifier(boosting_type='gbdt', class_weight=None,\n",
            "                                colsample_bytree=1.0, importance_type='split',\n",
            "                                learning_rate=0.1, max_depth=5,\n",
            "                                min_child_samples=20, min_child_weight=0.001,\n",
            "                                min_split_gain=0.0, n_estimators=100, n_jobs=-1,\n",
            "                                num_leaves=31, objective=None,\n",
            "                                random_state=None, reg_alpha=0.0,\n",
            "                                reg_lambda=0.0, silent=True, subsample=1.0,\n",
            "                                subsample_for_bin=200000, subsample_freq=0))],\n",
            "         verbose=False)\n",
            "Best score: 0.9751865001711991\n",
            "Best params: {'classifier': LGBMClassifier(boosting_type='gbdt', class_weight=None, colsample_bytree=1.0,\n",
            "               importance_type='split', learning_rate=0.1, max_depth=5,\n",
            "               min_child_samples=20, min_child_weight=0.001, min_split_gain=0.0,\n",
            "               n_estimators=100, n_jobs=-1, num_leaves=31, objective=None,\n",
            "               random_state=None, reg_alpha=0.0, reg_lambda=0.0, silent=True,\n",
            "               subsample=1.0, subsample_for_bin=200000, subsample_freq=0), 'classifier__max_depth': 5, 'classifier__num_leaves': 31}\n"
          ],
          "name": "stdout"
        }
      ]
    },
    {
      "cell_type": "code",
      "metadata": {
        "id": "8pn9PFElOIC1"
      },
      "source": [
        ""
      ],
      "execution_count": null,
      "outputs": []
    },
    {
      "cell_type": "code",
      "metadata": {
        "id": "vDju5p0NOIXS"
      },
      "source": [
        ""
      ],
      "execution_count": null,
      "outputs": []
    },
    {
      "cell_type": "code",
      "metadata": {
        "id": "w_MszkSynKUH"
      },
      "source": [
        "def clf_report(y_true, y_predicted: np.array) -> None:\n",
        "    \"\"\"\n",
        "    Return score and confusion matrix\n",
        "    \"\"\"\n",
        "    print(classification_report_imbalanced(y_true, y_predicted))\n",
        "    print(confusion_matrix(y_test, y_predicted))"
      ],
      "execution_count": 64,
      "outputs": []
    },
    {
      "cell_type": "code",
      "metadata": {
        "colab": {
          "base_uri": "https://localhost:8080/"
        },
        "id": "DcWlxfy05_zQ",
        "outputId": "a3d3b87e-2b37-4abb-ff29-88e28123e970"
      },
      "source": [
        "clf_report(y_test, y_predictions)"
      ],
      "execution_count": 65,
      "outputs": [
        {
          "output_type": "stream",
          "text": [
            "                   pre       rec       spe        f1       geo       iba       sup\n",
            "\n",
            "         -1       0.81      0.88      0.98      0.84      0.93      0.86       113\n",
            "          1       0.99      0.98      0.88      0.98      0.93      0.87      1012\n",
            "\n",
            "avg / total       0.97      0.97      0.89      0.97      0.93      0.87      1125\n",
            "\n",
            "[[100  13]\n",
            " [ 24 988]]\n"
          ],
          "name": "stdout"
        }
      ]
    },
    {
      "cell_type": "code",
      "metadata": {
        "colab": {
          "base_uri": "https://localhost:8080/"
        },
        "id": "Kja8ijl1HcBY",
        "outputId": "79de9cc9-03e8-4656-80ca-44e9e72ac646"
      },
      "source": [
        "tn, fp, fn, tp = confusion_matrix(y_test, y_predictions).ravel()\n",
        "tn, fp, fn, tp"
      ],
      "execution_count": 67,
      "outputs": [
        {
          "output_type": "execute_result",
          "data": {
            "text/plain": [
              "(100, 13, 24, 988)"
            ]
          },
          "metadata": {
            "tags": []
          },
          "execution_count": 67
        }
      ]
    },
    {
      "cell_type": "markdown",
      "metadata": {
        "id": "hLyNXDsvtDwC"
      },
      "source": [
        "##Data"
      ]
    },
    {
      "cell_type": "code",
      "metadata": {
        "id": "vb4Q0uzErQkt"
      },
      "source": [
        "df = pd.DataFrame([y_predictions]).T\n",
        "df.to_csv('labels.csv',index=False)"
      ],
      "execution_count": 49,
      "outputs": []
    }
  ]
}